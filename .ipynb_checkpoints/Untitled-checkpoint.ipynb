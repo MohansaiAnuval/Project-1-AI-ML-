{
 "cells": [
  {
   "cell_type": "code",
   "execution_count": 1,
   "id": "502de287-566f-4348-9549-b17d1fe8f47b",
   "metadata": {},
   "outputs": [],
   "source": [
    "# Clean and normalize text\n",
    "def clean_text(text):\n",
    "    text = re.sub(r'\\W+', ' ', text.lower())\n",
    "    tokens = word_tokenize(text)\n",
    "    tokens = [word for word in tokens if word not in stopwords.words('english')]\n",
    "    return ' '.join(tokens)\n",
    "\n",
    "# Translate text to English if not already in English\n",
    "def translate_to_english(text):\n",
    "    try:\n",
    "        user_lang = detect(text)\n",
    "        if user_lang != 'en':\n",
    "            text = GoogleTranslator(source=user_lang, target='en').translate(text)\n",
    "    except Exception as e:\n",
    "        print(f\"Error translating to English: {e}\")\n",
    "    return text\n",
    "\n",
    "# Identify disease based on symptoms\n",
    "def identify_disease(user_input, language='en'):\n",
    "    user_input = translate_to_english(user_input)\n",
    "    cleaned_input = clean_text(user_input)\n",
    "    all_symptoms = combined_df['Symptoms'].tolist() + [cleaned_input]\n",
    "    tfidf = TfidfVectorizer().fit_transform(all_symptoms)\n",
    "    dataset_tfidf = tfidf[:-1]\n",
    "    input_tfidf = tfidf[-1]\n",
    "    cosine_similarities = cosine_similarity(input_tfidf, dataset_tfidf).flatten()\n",
    "    best_match_index = cosine_similarities.argmax()\n",
    "\n",
    "    if cosine_similarities[best_match_index] < 0.1:\n",
    "        print(\"No close match found in the dataset. Please check your input or try different symptoms.\")\n",
    "    else:\n",
    "        matching_disease = combined_df.iloc[best_match_index]\n",
    "        print_disease_info(matching_disease, language)\n"
   ]
  },
  {
   "cell_type": "code",
   "execution_count": null,
   "id": "5c1580b8-0caa-4e64-ad08-00bdf3632283",
   "metadata": {},
   "outputs": [],
   "source": []
  }
 ],
 "metadata": {
  "kernelspec": {
   "display_name": "Python 3 (ipykernel)",
   "language": "python",
   "name": "python3"
  },
  "language_info": {
   "codemirror_mode": {
    "name": "ipython",
    "version": 3
   },
   "file_extension": ".py",
   "mimetype": "text/x-python",
   "name": "python",
   "nbconvert_exporter": "python",
   "pygments_lexer": "ipython3",
   "version": "3.12.5"
  }
 },
 "nbformat": 4,
 "nbformat_minor": 5
}
